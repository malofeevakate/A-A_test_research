{
  "cells": [
    {
      "cell_type": "markdown",
      "metadata": {
        "id": "view-in-github",
        "colab_type": "text"
      },
      "source": [
        "<a href=\"https://colab.research.google.com/github/malofeevakate/A-A_test_research/blob/main/AA_test.ipynb\" target=\"_parent\"><img src=\"https://colab.research.google.com/assets/colab-badge.svg\" alt=\"Open In Colab\"/></a>"
      ]
    },
    {
      "cell_type": "code",
      "execution_count": null,
      "id": "aea23018",
      "metadata": {
        "id": "aea23018"
      },
      "outputs": [],
      "source": [
        "import numpy as np\n",
        "import pandas as pd\n",
        "from scipy import stats\n",
        "import matplotlib.pyplot as plt\n",
        "import seaborn as sns\n",
        "\n",
        "from tqdm.auto import tqdm"
      ]
    },
    {
      "cell_type": "code",
      "execution_count": null,
      "id": "7474981f",
      "metadata": {
        "id": "7474981f"
      },
      "outputs": [],
      "source": [
        "df = pd.read_csv('hw_aa.csv', sep = ';', index_col = 0)"
      ]
    },
    {
      "cell_type": "code",
      "execution_count": null,
      "id": "080f5cbd",
      "metadata": {
        "id": "080f5cbd",
        "outputId": "eed996f2-b77d-4f71-812b-598f8cee85e1"
      },
      "outputs": [
        {
          "data": {
            "text/html": [
              "<div>\n",
              "<style scoped>\n",
              "    .dataframe tbody tr th:only-of-type {\n",
              "        vertical-align: middle;\n",
              "    }\n",
              "\n",
              "    .dataframe tbody tr th {\n",
              "        vertical-align: top;\n",
              "    }\n",
              "\n",
              "    .dataframe thead th {\n",
              "        text-align: right;\n",
              "    }\n",
              "</style>\n",
              "<table border=\"1\" class=\"dataframe\">\n",
              "  <thead>\n",
              "    <tr style=\"text-align: right;\">\n",
              "      <th></th>\n",
              "      <th>uid</th>\n",
              "      <th>experimentVariant</th>\n",
              "      <th>version</th>\n",
              "      <th>purchase</th>\n",
              "    </tr>\n",
              "  </thead>\n",
              "  <tbody>\n",
              "    <tr>\n",
              "      <th>1</th>\n",
              "      <td>c4ca4238a0b923820dcc509a6f75849b</td>\n",
              "      <td>1</td>\n",
              "      <td>v2.8.0</td>\n",
              "      <td>0</td>\n",
              "    </tr>\n",
              "    <tr>\n",
              "      <th>2</th>\n",
              "      <td>c81e728d9d4c2f636f067f89cc14862c</td>\n",
              "      <td>0</td>\n",
              "      <td>v2.9.0</td>\n",
              "      <td>0</td>\n",
              "    </tr>\n",
              "    <tr>\n",
              "      <th>3</th>\n",
              "      <td>eccbc87e4b5ce2fe28308fd9f2a7baf3</td>\n",
              "      <td>1</td>\n",
              "      <td>v2.9.0</td>\n",
              "      <td>0</td>\n",
              "    </tr>\n",
              "    <tr>\n",
              "      <th>4</th>\n",
              "      <td>a87ff679a2f3e71d9181a67b7542122c</td>\n",
              "      <td>1</td>\n",
              "      <td>v2.8.0</td>\n",
              "      <td>0</td>\n",
              "    </tr>\n",
              "    <tr>\n",
              "      <th>5</th>\n",
              "      <td>e4da3b7fbbce2345d7772b0674a318d5</td>\n",
              "      <td>1</td>\n",
              "      <td>v2.8.0</td>\n",
              "      <td>0</td>\n",
              "    </tr>\n",
              "    <tr>\n",
              "      <th>...</th>\n",
              "      <td>...</td>\n",
              "      <td>...</td>\n",
              "      <td>...</td>\n",
              "      <td>...</td>\n",
              "    </tr>\n",
              "    <tr>\n",
              "      <th>127014</th>\n",
              "      <td>d1f082ede77b17a99a9b0b240daf7bdf</td>\n",
              "      <td>0</td>\n",
              "      <td>v2.8.0</td>\n",
              "      <td>0</td>\n",
              "    </tr>\n",
              "    <tr>\n",
              "      <th>127015</th>\n",
              "      <td>94f0d540830ccdc6b29c1938eea445cc</td>\n",
              "      <td>0</td>\n",
              "      <td>v2.8.0</td>\n",
              "      <td>0</td>\n",
              "    </tr>\n",
              "    <tr>\n",
              "      <th>127016</th>\n",
              "      <td>709f74cf9721328e98be6f216e8a05a8</td>\n",
              "      <td>1</td>\n",
              "      <td>v2.9.0</td>\n",
              "      <td>0</td>\n",
              "    </tr>\n",
              "    <tr>\n",
              "      <th>127017</th>\n",
              "      <td>1767ae3f8ffec269d9ed0ac0ede68d90</td>\n",
              "      <td>1</td>\n",
              "      <td>v2.8.0</td>\n",
              "      <td>0</td>\n",
              "    </tr>\n",
              "    <tr>\n",
              "      <th>127018</th>\n",
              "      <td>8dd8503c49b5e8c6aaea1ed7f0c49765</td>\n",
              "      <td>1</td>\n",
              "      <td>v2.8.0</td>\n",
              "      <td>0</td>\n",
              "    </tr>\n",
              "  </tbody>\n",
              "</table>\n",
              "<p>127018 rows × 4 columns</p>\n",
              "</div>"
            ],
            "text/plain": [
              "                                     uid  experimentVariant version  purchase\n",
              "1       c4ca4238a0b923820dcc509a6f75849b                  1  v2.8.0         0\n",
              "2       c81e728d9d4c2f636f067f89cc14862c                  0  v2.9.0         0\n",
              "3       eccbc87e4b5ce2fe28308fd9f2a7baf3                  1  v2.9.0         0\n",
              "4       a87ff679a2f3e71d9181a67b7542122c                  1  v2.8.0         0\n",
              "5       e4da3b7fbbce2345d7772b0674a318d5                  1  v2.8.0         0\n",
              "...                                  ...                ...     ...       ...\n",
              "127014  d1f082ede77b17a99a9b0b240daf7bdf                  0  v2.8.0         0\n",
              "127015  94f0d540830ccdc6b29c1938eea445cc                  0  v2.8.0         0\n",
              "127016  709f74cf9721328e98be6f216e8a05a8                  1  v2.9.0         0\n",
              "127017  1767ae3f8ffec269d9ed0ac0ede68d90                  1  v2.8.0         0\n",
              "127018  8dd8503c49b5e8c6aaea1ed7f0c49765                  1  v2.8.0         0\n",
              "\n",
              "[127018 rows x 4 columns]"
            ]
          },
          "execution_count": 138,
          "metadata": {},
          "output_type": "execute_result"
        }
      ],
      "source": [
        "# experimentVariant – вариант эксперимента\n",
        "# version – версия приложения\n",
        "# purchase – факт покупки\n",
        "df"
      ]
    },
    {
      "cell_type": "code",
      "execution_count": null,
      "id": "da5c6475",
      "metadata": {
        "id": "da5c6475",
        "outputId": "de8c1976-966b-4464-8c44-4a948f241f80",
        "colab": {
          "referenced_widgets": [
            "75438d34d294482897409df712b94d8b"
          ]
        }
      },
      "outputs": [
        {
          "data": {
            "application/vnd.jupyter.widget-view+json": {
              "model_id": "75438d34d294482897409df712b94d8b",
              "version_major": 2,
              "version_minor": 0
            },
            "text/plain": [
              "  0%|          | 0/1000 [00:00<?, ?it/s]"
            ]
          },
          "metadata": {},
          "output_type": "display_data"
        },
        {
          "data": {
            "image/png": "[encoded data removed]",
            "text/plain": [
              "<Figure size 432x288 with 1 Axes>"
            ]
          },
          "metadata": {},
          "output_type": "display_data"
        },
        {
          "data": {
            "text/plain": [
              "0.921"
            ]
          },
          "execution_count": 139,
          "metadata": {},
          "output_type": "execute_result"
        }
      ],
      "source": [
        "simulations = 1000    # размер симуляций\n",
        "n_s = 1000    # количество наблюдений в подвыборке, которую мы будем доставать из оригинальной\n",
        "res = []\n",
        "\n",
        "df_s1 = df[df['experimentVariant'] == 1].purchase\n",
        "df_s2 = df[df['experimentVariant'] == 0].purchase\n",
        "\n",
        "# Запуск симуляций A/A теста\n",
        "for i in tqdm(range(simulations)):\n",
        "    s1 = df_s1.sample(n_s, replace = False).values    # из ранее сформированного эксп распределения s1 берем подвыборки БЕЗ ВОЗВРАЩЕНИЙ\n",
        "    s2 = df_s2.sample(n_s, replace = False).values    # из ранее сформированного эксп распределения s2 берем подвыборки БЕЗ ВОЗВРАЩЕНИЙ\n",
        "    res.append(stats.ttest_ind(s1, s2, equal_var = False)[1]) # сохраняем pvalue\n",
        "\n",
        "plt.hist(res, bins = 50)\n",
        "plt.style.use('ggplot')\n",
        "plt.xlabel('pvalues')\n",
        "plt.ylabel('frequency')\n",
        "plt.title(\"Histogram of ttest A/A simulations \")\n",
        "plt.show()\n",
        "\n",
        "# Проверяем, что количество ложноположительных случаев не превышает альфа\n",
        "sum(np.array(res) <0.05) / simulations"
      ]
    },
    {
      "cell_type": "code",
      "execution_count": null,
      "id": "6e4236dd",
      "metadata": {
        "id": "6e4236dd"
      },
      "outputs": [],
      "source": [
        "df_versions = df.groupby(['experimentVariant', 'version'], as_index = False) \\\n",
        ".agg({'purchase' : 'count'})"
      ]
    },
    {
      "cell_type": "code",
      "execution_count": null,
      "id": "e2fc78c2",
      "metadata": {
        "id": "e2fc78c2",
        "outputId": "33d361d2-6f33-4c35-9fbf-7b64863c182f"
      },
      "outputs": [
        {
          "data": {
            "text/html": [
              "<div>\n",
              "<style scoped>\n",
              "    .dataframe tbody tr th:only-of-type {\n",
              "        vertical-align: middle;\n",
              "    }\n",
              "\n",
              "    .dataframe tbody tr th {\n",
              "        vertical-align: top;\n",
              "    }\n",
              "\n",
              "    .dataframe thead th {\n",
              "        text-align: right;\n",
              "    }\n",
              "</style>\n",
              "<table border=\"1\" class=\"dataframe\">\n",
              "  <thead>\n",
              "    <tr style=\"text-align: right;\">\n",
              "      <th></th>\n",
              "      <th>experimentVariant</th>\n",
              "      <th>version</th>\n",
              "      <th>purchase</th>\n",
              "    </tr>\n",
              "  </thead>\n",
              "  <tbody>\n",
              "    <tr>\n",
              "      <th>0</th>\n",
              "      <td>0</td>\n",
              "      <td>v2.8.0</td>\n",
              "      <td>41283</td>\n",
              "    </tr>\n",
              "    <tr>\n",
              "      <th>1</th>\n",
              "      <td>0</td>\n",
              "      <td>v2.9.0</td>\n",
              "      <td>11921</td>\n",
              "    </tr>\n",
              "    <tr>\n",
              "      <th>2</th>\n",
              "      <td>0</td>\n",
              "      <td>v3.7.4.0</td>\n",
              "      <td>4204</td>\n",
              "    </tr>\n",
              "    <tr>\n",
              "      <th>3</th>\n",
              "      <td>0</td>\n",
              "      <td>v3.8.0.0</td>\n",
              "      <td>5694</td>\n",
              "    </tr>\n",
              "    <tr>\n",
              "      <th>4</th>\n",
              "      <td>1</td>\n",
              "      <td>v2.8.0</td>\n",
              "      <td>41552</td>\n",
              "    </tr>\n",
              "    <tr>\n",
              "      <th>5</th>\n",
              "      <td>1</td>\n",
              "      <td>v2.9.0</td>\n",
              "      <td>12033</td>\n",
              "    </tr>\n",
              "    <tr>\n",
              "      <th>6</th>\n",
              "      <td>1</td>\n",
              "      <td>v3.7.4.0</td>\n",
              "      <td>4221</td>\n",
              "    </tr>\n",
              "    <tr>\n",
              "      <th>7</th>\n",
              "      <td>1</td>\n",
              "      <td>v3.8.0.0</td>\n",
              "      <td>6110</td>\n",
              "    </tr>\n",
              "  </tbody>\n",
              "</table>\n",
              "</div>"
            ],
            "text/plain": [
              "   experimentVariant   version  purchase\n",
              "0                  0    v2.8.0     41283\n",
              "1                  0    v2.9.0     11921\n",
              "2                  0  v3.7.4.0      4204\n",
              "3                  0  v3.8.0.0      5694\n",
              "4                  1    v2.8.0     41552\n",
              "5                  1    v2.9.0     12033\n",
              "6                  1  v3.7.4.0      4221\n",
              "7                  1  v3.8.0.0      6110"
            ]
          },
          "execution_count": 141,
          "metadata": {},
          "output_type": "execute_result"
        }
      ],
      "source": [
        "df_versions"
      ]
    },
    {
      "cell_type": "code",
      "execution_count": null,
      "id": "c5f7109f",
      "metadata": {
        "id": "c5f7109f",
        "outputId": "7db43c25-ff5c-4d3e-fdf5-c7738cdd5773"
      },
      "outputs": [
        {
          "data": {
            "text/plain": [
              "<AxesSubplot:xlabel='version', ylabel='count'>"
            ]
          },
          "execution_count": 142,
          "metadata": {},
          "output_type": "execute_result"
        },
        {
          "data": {
            "image/png": "[encoded data removed]",
            "text/plain": [
              "<Figure size 432x288 with 1 Axes>"
            ]
          },
          "metadata": {},
          "output_type": "display_data"
        }
      ],
      "source": [
        "# видно, что общее число наблюдений в разрезе версий приложения распределено достаточно равномерно по вариантам эксперимента\n",
        "sns.countplot(x = 'version',  hue = 'experimentVariant', data = df)"
      ]
    },
    {
      "cell_type": "code",
      "execution_count": null,
      "id": "76d7a250",
      "metadata": {
        "id": "76d7a250"
      },
      "outputs": [],
      "source": [
        "# посчитаем конверсию покупок в разрезе используемых пользователями приложений\n",
        "df['count_purchase'] = df.purchase\n",
        "df_versions = df.groupby(['experimentVariant', 'version'], as_index = False) \\\n",
        ".agg({'purchase' : 'sum', 'count_purchase' : 'count'})"
      ]
    },
    {
      "cell_type": "code",
      "execution_count": null,
      "id": "a41112a7",
      "metadata": {
        "id": "a41112a7"
      },
      "outputs": [],
      "source": [
        "df_versions['conversion'] = df_versions.purchase  / df_versions.count_purchase"
      ]
    },
    {
      "cell_type": "code",
      "execution_count": null,
      "id": "d348405a",
      "metadata": {
        "id": "d348405a",
        "outputId": "164a2f25-f589-4829-ae6f-bc0b5bdbe82d"
      },
      "outputs": [
        {
          "data": {
            "text/html": [
              "<div>\n",
              "<style scoped>\n",
              "    .dataframe tbody tr th:only-of-type {\n",
              "        vertical-align: middle;\n",
              "    }\n",
              "\n",
              "    .dataframe tbody tr th {\n",
              "        vertical-align: top;\n",
              "    }\n",
              "\n",
              "    .dataframe thead th {\n",
              "        text-align: right;\n",
              "    }\n",
              "</style>\n",
              "<table border=\"1\" class=\"dataframe\">\n",
              "  <thead>\n",
              "    <tr style=\"text-align: right;\">\n",
              "      <th></th>\n",
              "      <th>experimentVariant</th>\n",
              "      <th>version</th>\n",
              "      <th>purchase</th>\n",
              "      <th>count_purchase</th>\n",
              "      <th>conversion</th>\n",
              "    </tr>\n",
              "  </thead>\n",
              "  <tbody>\n",
              "    <tr>\n",
              "      <th>0</th>\n",
              "      <td>0</td>\n",
              "      <td>v2.8.0</td>\n",
              "      <td>41</td>\n",
              "      <td>41283</td>\n",
              "      <td>0.000993</td>\n",
              "    </tr>\n",
              "    <tr>\n",
              "      <th>1</th>\n",
              "      <td>0</td>\n",
              "      <td>v2.9.0</td>\n",
              "      <td>890</td>\n",
              "      <td>11921</td>\n",
              "      <td>0.074658</td>\n",
              "    </tr>\n",
              "    <tr>\n",
              "      <th>2</th>\n",
              "      <td>0</td>\n",
              "      <td>v3.7.4.0</td>\n",
              "      <td>252</td>\n",
              "      <td>4204</td>\n",
              "      <td>0.059943</td>\n",
              "    </tr>\n",
              "    <tr>\n",
              "      <th>3</th>\n",
              "      <td>0</td>\n",
              "      <td>v3.8.0.0</td>\n",
              "      <td>328</td>\n",
              "      <td>5694</td>\n",
              "      <td>0.057604</td>\n",
              "    </tr>\n",
              "    <tr>\n",
              "      <th>4</th>\n",
              "      <td>1</td>\n",
              "      <td>v2.8.0</td>\n",
              "      <td>1895</td>\n",
              "      <td>41552</td>\n",
              "      <td>0.045606</td>\n",
              "    </tr>\n",
              "    <tr>\n",
              "      <th>5</th>\n",
              "      <td>1</td>\n",
              "      <td>v2.9.0</td>\n",
              "      <td>858</td>\n",
              "      <td>12033</td>\n",
              "      <td>0.071304</td>\n",
              "    </tr>\n",
              "    <tr>\n",
              "      <th>6</th>\n",
              "      <td>1</td>\n",
              "      <td>v3.7.4.0</td>\n",
              "      <td>266</td>\n",
              "      <td>4221</td>\n",
              "      <td>0.063018</td>\n",
              "    </tr>\n",
              "    <tr>\n",
              "      <th>7</th>\n",
              "      <td>1</td>\n",
              "      <td>v3.8.0.0</td>\n",
              "      <td>384</td>\n",
              "      <td>6110</td>\n",
              "      <td>0.062848</td>\n",
              "    </tr>\n",
              "  </tbody>\n",
              "</table>\n",
              "</div>"
            ],
            "text/plain": [
              "   experimentVariant   version  purchase  count_purchase  conversion\n",
              "0                  0    v2.8.0        41           41283    0.000993\n",
              "1                  0    v2.9.0       890           11921    0.074658\n",
              "2                  0  v3.7.4.0       252            4204    0.059943\n",
              "3                  0  v3.8.0.0       328            5694    0.057604\n",
              "4                  1    v2.8.0      1895           41552    0.045606\n",
              "5                  1    v2.9.0       858           12033    0.071304\n",
              "6                  1  v3.7.4.0       266            4221    0.063018\n",
              "7                  1  v3.8.0.0       384            6110    0.062848"
            ]
          },
          "execution_count": 145,
          "metadata": {},
          "output_type": "execute_result"
        }
      ],
      "source": [
        "# видно, что группа с приложением v2.8.0 из варианта 1 значимо отличается от остальных групп по конверсии\n",
        "df_versions"
      ]
    },
    {
      "cell_type": "code",
      "execution_count": null,
      "id": "e164baee",
      "metadata": {
        "id": "e164baee",
        "outputId": "84c572e0-7463-4ba4-e40b-295f2730835a"
      },
      "outputs": [
        {
          "data": {
            "text/plain": [
              "v2.8.0      0.652152\n",
              "v2.9.0      0.188587\n",
              "v3.8.0.0    0.092932\n",
              "v3.7.4.0    0.066329\n",
              "Name: version, dtype: float64"
            ]
          },
          "execution_count": 146,
          "metadata": {},
          "output_type": "execute_result"
        }
      ],
      "source": [
        "# однако доля ее в общей выборке весьма значима - более 65% наблюдений\n",
        "df.version.value_counts(normalize = True)"
      ]
    },
    {
      "cell_type": "code",
      "execution_count": null,
      "id": "2b3abd54",
      "metadata": {
        "id": "2b3abd54"
      },
      "outputs": [],
      "source": [
        "# удалим указанную группу из выборки и повторим эксперимент\n",
        "df = df.query('version != \"v2.8.0\"')"
      ]
    },
    {
      "cell_type": "code",
      "execution_count": null,
      "id": "14fc55ee",
      "metadata": {
        "id": "14fc55ee",
        "outputId": "8c0246bd-2868-4cfd-a627-1dff1d36d753",
        "colab": {
          "referenced_widgets": [
            "40902665cfc645d79297ed15f92ef924"
          ]
        }
      },
      "outputs": [
        {
          "data": {
            "application/vnd.jupyter.widget-view+json": {
              "model_id": "40902665cfc645d79297ed15f92ef924",
              "version_major": 2,
              "version_minor": 0
            },
            "text/plain": [
              "  0%|          | 0/1000 [00:00<?, ?it/s]"
            ]
          },
          "metadata": {},
          "output_type": "display_data"
        },
        {
          "data": {
            "image/png": "[encoded data removed]",
            "text/plain": [
              "<Figure size 432x288 with 1 Axes>"
            ]
          },
          "metadata": {},
          "output_type": "display_data"
        },
        {
          "data": {
            "text/plain": [
              "0.041"
            ]
          },
          "execution_count": 148,
          "metadata": {},
          "output_type": "execute_result"
        }
      ],
      "source": [
        "simulations = 1000    # размер симуляций\n",
        "n_s = 1000    # количество наблюдений в подвыборке, которую мы будем доставать из оригинальной\n",
        "res = []\n",
        "\n",
        "df_s1 = df[df['experimentVariant'] == 1].purchase\n",
        "df_s2 = df[df['experimentVariant'] == 0].purchase\n",
        "\n",
        "# Запуск симуляций A/A теста\n",
        "for i in tqdm(range(simulations)):\n",
        "    s1 = df_s1.sample(n_s, replace = False).values    # из ранее сформированного эксп распределения s1 берем подвыборки БЕЗ ВОЗВРАЩЕНИЙ\n",
        "    s2 = df_s2.sample(n_s, replace = False).values    # из ранее сформированного эксп распределения s2 берем подвыборки БЕЗ ВОЗВРАЩЕНИЙ\n",
        "    res.append(stats.ttest_ind(s1, s2, equal_var = False)[1]) # сохраняем pvalue\n",
        "\n",
        "plt.hist(res, bins = 100)\n",
        "plt.style.use('ggplot')\n",
        "plt.xlabel('pvalues')\n",
        "plt.ylabel('frequency')\n",
        "plt.title(\"Histogram of ttest A/A simulations \")\n",
        "plt.show()\n",
        "\n",
        "# Проверяем, что количество ложноположительных случаев не превышает альфа\n",
        "sum(np.array(res) <0.05) / simulations"
      ]
    },
    {
      "cell_type": "markdown",
      "id": "9cf566ef",
      "metadata": {
        "id": "9cf566ef"
      },
      "source": [
        "Первоначальный вариант сплитования (примерно равноразмерные группы пользователей с разными версиями) не дал удовлетворительной величины FPR из-за того, что не была учтена разница конверсий у пользователей версии v2.0.8 (которая составляет наибольшую часть тестовой аудитории), и в одну группу попало много пользователей с плохой конверсией. При удалении этой группы из рассматриваемой выборки FPR снизился, а значит, система сплитования улучшилась."
      ]
    }
  ],
  "metadata": {
    "kernelspec": {
      "display_name": "Python 3 (ipykernel)",
      "language": "python",
      "name": "python3"
    },
    "language_info": {
      "codemirror_mode": {
        "name": "ipython",
        "version": 3
      },
      "file_extension": ".py",
      "mimetype": "text/x-python",
      "name": "python",
      "nbconvert_exporter": "python",
      "pygments_lexer": "ipython3",
      "version": "3.8.8"
    },
    "colab": {
      "provenance": [],
      "include_colab_link": true
    }
  },
  "nbformat": 4,
  "nbformat_minor": 5
}